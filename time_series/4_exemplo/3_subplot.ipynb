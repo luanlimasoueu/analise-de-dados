{
 "cells": [
  {
   "cell_type": "code",
   "execution_count": null,
   "metadata": {},
   "outputs": [],
   "source": [
    "# Implementation of matplotlib function  \n",
    "from matplotlib.axis import Axis \n",
    "import matplotlib.pyplot as plt  \n",
    "import matplotlib.ticker as ticker  \n",
    "    \n",
    "    \n",
    "x = [0, 5, 9, 10, 15]  \n",
    "y = [0, 1, 2, 3, 4]  \n",
    "    \n",
    "tick_spacing = 1\n",
    "    \n",
    "fig, ax = plt.subplots(1, 1)  \n",
    "ax.plot(x, y)  \n",
    "ax.xaxis.set_major_locator(ticker.MultipleLocator(tick_spacing)) \n",
    "   \n",
    "fig.suptitle(\"Matplotlib.axis.Axis.set_major_locator()\\n\\ \n",
    "Function Example\", fontsize = 12, fontweight ='bold')  \n",
    "  \n",
    "plt.show()"
   ]
  }
 ],
 "metadata": {
  "kernelspec": {
   "display_name": "Python 3",
   "language": "python",
   "name": "python3"
  },
  "language_info": {
   "name": "python",
   "version": "3.10.7"
  }
 },
 "nbformat": 4,
 "nbformat_minor": 2
}
