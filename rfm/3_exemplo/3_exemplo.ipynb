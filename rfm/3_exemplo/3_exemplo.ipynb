{
 "cells": [
  {
   "cell_type": "code",
   "execution_count": 1,
   "metadata": {},
   "outputs": [
    {
     "name": "stdout",
     "output_type": "stream",
     "text": [
      "   ProductID ProductCategory  ProductBrand  ProductPrice  CustomerAge  \\\n",
      "0       5874     Smartphones  Other Brands    312.949668           18   \n",
      "1       5875   Smart Watches       Samsung    980.389404           35   \n",
      "2       5876         Tablets       Samsung   2606.718293           63   \n",
      "3       5877     Smartphones       Samsung    870.395450           63   \n",
      "4       5878         Tablets          Sony   1798.955875           57   \n",
      "\n",
      "   CustomerGender  PurchaseFrequency  CustomerSatisfaction  PurchaseIntent  \n",
      "0               0                  2                     1               0  \n",
      "1               1                  7                     2               1  \n",
      "2               0                  1                     5               1  \n",
      "3               1                 10                     3               1  \n",
      "4               0                 17                     3               0  \n"
     ]
    }
   ],
   "source": [
    "import pandas as pd \n",
    "df = pd.read_csv(\"consumer_electronics_sales_data.csv\")\n",
    "print(df.head())"
   ]
  },
  {
   "cell_type": "markdown",
   "metadata": {},
   "source": [
    "https://medium.com/datafabrica/mastering-e-commerce-product-recommendations-in-python-7c12a4bf0c2c"
   ]
  }
 ],
 "metadata": {
  "kernelspec": {
   "display_name": "Python 3",
   "language": "python",
   "name": "python3"
  },
  "language_info": {
   "codemirror_mode": {
    "name": "ipython",
    "version": 3
   },
   "file_extension": ".py",
   "mimetype": "text/x-python",
   "name": "python",
   "nbconvert_exporter": "python",
   "pygments_lexer": "ipython3",
   "version": "3.10.7"
  }
 },
 "nbformat": 4,
 "nbformat_minor": 2
}
