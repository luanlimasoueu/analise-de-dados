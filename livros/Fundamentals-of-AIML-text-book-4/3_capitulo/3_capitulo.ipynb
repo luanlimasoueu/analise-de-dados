{
 "cells": [
  {
   "cell_type": "code",
   "execution_count": 1,
   "metadata": {},
   "outputs": [
    {
     "data": {
      "text/plain": [
       "0.031921361119954424"
      ]
     },
     "execution_count": 1,
     "metadata": {},
     "output_type": "execute_result"
    }
   ],
   "source": [
    "from scipy import stats\n",
    "stats.binom.pmf(5, 20, 0.1)"
   ]
  },
  {
   "cell_type": "code",
   "execution_count": null,
   "metadata": {},
   "outputs": [],
   "source": [
    "# range(0,21) returns all values from 0 to 20 (excluding 21)\n",
    "pmf_df = pd.DataFrame({ ‘success’: range(0,21),\n",
    "‘pmf’: list(stats.binom.pmf(range(0,21),\n",
    "20, 0.1))})\n",
    "# Creating a bar plot with number of success as x and pmf as y\n",
    "sn.barplot(x = pmf_df.success, y = pmf_df.pmf)\n",
    "plt.ylabel(‘pmf’)\n",
    "plt.xlabel(‘Number of items returned);"
   ]
  }
 ],
 "metadata": {
  "kernelspec": {
   "display_name": "Python 3",
   "language": "python",
   "name": "python3"
  },
  "language_info": {
   "codemirror_mode": {
    "name": "ipython",
    "version": 3
   },
   "file_extension": ".py",
   "mimetype": "text/x-python",
   "name": "python",
   "nbconvert_exporter": "python",
   "pygments_lexer": "ipython3",
   "version": "3.10.7"
  }
 },
 "nbformat": 4,
 "nbformat_minor": 2
}
